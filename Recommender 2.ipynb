{
 "cells": [
  {
   "cell_type": "markdown",
   "metadata": {},
   "source": [
    "## Import Libraries"
   ]
  },
  {
   "cell_type": "code",
   "execution_count": 1,
   "metadata": {},
   "outputs": [],
   "source": [
    "import pandas as pd\n",
    "import numpy as np\n",
    "from sklearn.feature_extraction.text import CountVectorizer\n",
    "from sklearn.metrics.pairwise import cosine_similarity"
   ]
  },
  {
   "cell_type": "markdown",
   "metadata": {},
   "source": [
    "## Load Dataset"
   ]
  },
  {
   "cell_type": "code",
   "execution_count": 2,
   "metadata": {},
   "outputs": [],
   "source": [
    "movies = pd.read_pickle('Final_MovieData.pkl')"
   ]
  },
  {
   "cell_type": "code",
   "execution_count": 4,
   "metadata": {},
   "outputs": [
    {
     "data": {
      "text/html": [
       "<div>\n",
       "<style scoped>\n",
       "    .dataframe tbody tr th:only-of-type {\n",
       "        vertical-align: middle;\n",
       "    }\n",
       "\n",
       "    .dataframe tbody tr th {\n",
       "        vertical-align: top;\n",
       "    }\n",
       "\n",
       "    .dataframe thead th {\n",
       "        text-align: right;\n",
       "    }\n",
       "</style>\n",
       "<table border=\"1\" class=\"dataframe\">\n",
       "  <thead>\n",
       "    <tr style=\"text-align: right;\">\n",
       "      <th></th>\n",
       "      <th>tconst</th>\n",
       "      <th>title</th>\n",
       "      <th>year</th>\n",
       "      <th>genres</th>\n",
       "      <th>actor_1</th>\n",
       "      <th>actor_2</th>\n",
       "      <th>actor_3</th>\n",
       "      <th>director</th>\n",
       "      <th>rating</th>\n",
       "      <th>combined</th>\n",
       "    </tr>\n",
       "  </thead>\n",
       "  <tbody>\n",
       "    <tr>\n",
       "      <th>0</th>\n",
       "      <td>tt0035423</td>\n",
       "      <td>Kate &amp; Leopold</td>\n",
       "      <td>2001</td>\n",
       "      <td>Comedy,Fantasy,Romance</td>\n",
       "      <td>Meg Ryan</td>\n",
       "      <td>Hugh Jackman</td>\n",
       "      <td>Liev Schreiber</td>\n",
       "      <td>James Mangold</td>\n",
       "      <td>6.4</td>\n",
       "      <td>comedy fantasy romance megryan hughjackman lie...</td>\n",
       "    </tr>\n",
       "    <tr>\n",
       "      <th>1</th>\n",
       "      <td>tt0064730</td>\n",
       "      <td>Japan Organized Crime Boss</td>\n",
       "      <td>2000</td>\n",
       "      <td>Action,Crime</td>\n",
       "      <td>Kôji Tsuruta</td>\n",
       "      <td>Tomisaburô Wakayama</td>\n",
       "      <td>Bunta Sugawara</td>\n",
       "      <td>Kinji Fukasaku</td>\n",
       "      <td>7.0</td>\n",
       "      <td>action crime kôjitsuruta tomisaburôwakayama bu...</td>\n",
       "    </tr>\n",
       "    <tr>\n",
       "      <th>2</th>\n",
       "      <td>tt0069049</td>\n",
       "      <td>The Other Side of the Wind</td>\n",
       "      <td>2018</td>\n",
       "      <td>Drama</td>\n",
       "      <td>John Huston</td>\n",
       "      <td>Oja Kodar</td>\n",
       "      <td>Peter Bogdanovich</td>\n",
       "      <td>Orson Welles</td>\n",
       "      <td>6.8</td>\n",
       "      <td>drama johnhuston ojakodar peterbogdanovich ors...</td>\n",
       "    </tr>\n",
       "    <tr>\n",
       "      <th>3</th>\n",
       "      <td>tt0081145</td>\n",
       "      <td>Me and the Kid</td>\n",
       "      <td>1993</td>\n",
       "      <td>Comedy,Crime,Drama</td>\n",
       "      <td>Danny Aiello</td>\n",
       "      <td>Alex Zuckerman</td>\n",
       "      <td>Joe Pantoliano</td>\n",
       "      <td>Dan Curtis</td>\n",
       "      <td>5.4</td>\n",
       "      <td>comedy crime drama dannyaiello alexzuckerman j...</td>\n",
       "    </tr>\n",
       "    <tr>\n",
       "      <th>4</th>\n",
       "      <td>tt0094900</td>\n",
       "      <td>Committed</td>\n",
       "      <td>1991</td>\n",
       "      <td>Drama,Thriller</td>\n",
       "      <td>Jennifer O'Neill</td>\n",
       "      <td>Robert Forster</td>\n",
       "      <td>William Windom</td>\n",
       "      <td>William A. Levey</td>\n",
       "      <td>5.1</td>\n",
       "      <td>drama thriller jennifero'neill robertforster w...</td>\n",
       "    </tr>\n",
       "    <tr>\n",
       "      <th>...</th>\n",
       "      <td>...</td>\n",
       "      <td>...</td>\n",
       "      <td>...</td>\n",
       "      <td>...</td>\n",
       "      <td>...</td>\n",
       "      <td>...</td>\n",
       "      <td>...</td>\n",
       "      <td>...</td>\n",
       "      <td>...</td>\n",
       "      <td>...</td>\n",
       "    </tr>\n",
       "    <tr>\n",
       "      <th>45594</th>\n",
       "      <td>tt9904670</td>\n",
       "      <td>Mountain Quest</td>\n",
       "      <td>2018</td>\n",
       "      <td>Documentary</td>\n",
       "      <td>Willem Dafoe</td>\n",
       "      <td></td>\n",
       "      <td></td>\n",
       "      <td>Jennifer Peedom</td>\n",
       "      <td>9.1</td>\n",
       "      <td>documentary willemdafoe   jenniferpeedom</td>\n",
       "    </tr>\n",
       "    <tr>\n",
       "      <th>45595</th>\n",
       "      <td>tt9904802</td>\n",
       "      <td>Enemy Lines</td>\n",
       "      <td>2020</td>\n",
       "      <td>War</td>\n",
       "      <td>Ed Westwick</td>\n",
       "      <td>John Hannah</td>\n",
       "      <td>Tom Wisdom</td>\n",
       "      <td>Anders Banke</td>\n",
       "      <td>4.9</td>\n",
       "      <td>war edwestwick johnhannah tomwisdom andersbanke</td>\n",
       "    </tr>\n",
       "    <tr>\n",
       "      <th>45596</th>\n",
       "      <td>tt9904820</td>\n",
       "      <td>American Terror Story</td>\n",
       "      <td>2019</td>\n",
       "      <td>Horror</td>\n",
       "      <td>Rim Basma</td>\n",
       "      <td>Laurie Cummings</td>\n",
       "      <td>Winnie Du</td>\n",
       "      <td>Terry Spears</td>\n",
       "      <td>3.0</td>\n",
       "      <td>horror rimbasma lauriecummings winniedu terrys...</td>\n",
       "    </tr>\n",
       "    <tr>\n",
       "      <th>45597</th>\n",
       "      <td>tt9906644</td>\n",
       "      <td>Manoharam</td>\n",
       "      <td>2019</td>\n",
       "      <td>Comedy,Drama</td>\n",
       "      <td>Vineeth Sreenivasan</td>\n",
       "      <td>Aparna Das</td>\n",
       "      <td>Basil Joseph</td>\n",
       "      <td>Anvar Sadik</td>\n",
       "      <td>6.8</td>\n",
       "      <td>comedy drama vineethsreenivasan aparnadas basi...</td>\n",
       "    </tr>\n",
       "    <tr>\n",
       "      <th>45598</th>\n",
       "      <td>tt9913660</td>\n",
       "      <td>No Apology</td>\n",
       "      <td>2019</td>\n",
       "      <td>Drama</td>\n",
       "      <td>Lydia Adair</td>\n",
       "      <td>Owen Bishop</td>\n",
       "      <td>Pierce Briggs</td>\n",
       "      <td>Gilbert Allan</td>\n",
       "      <td>5.0</td>\n",
       "      <td>drama lydiaadair owenbishop piercebriggs gilbe...</td>\n",
       "    </tr>\n",
       "  </tbody>\n",
       "</table>\n",
       "<p>45599 rows × 10 columns</p>\n",
       "</div>"
      ],
      "text/plain": [
       "          tconst                       title  year                  genres  \\\n",
       "0      tt0035423              Kate & Leopold  2001  Comedy,Fantasy,Romance   \n",
       "1      tt0064730  Japan Organized Crime Boss  2000            Action,Crime   \n",
       "2      tt0069049  The Other Side of the Wind  2018                   Drama   \n",
       "3      tt0081145              Me and the Kid  1993      Comedy,Crime,Drama   \n",
       "4      tt0094900                   Committed  1991          Drama,Thriller   \n",
       "...          ...                         ...   ...                     ...   \n",
       "45594  tt9904670              Mountain Quest  2018             Documentary   \n",
       "45595  tt9904802                 Enemy Lines  2020                     War   \n",
       "45596  tt9904820       American Terror Story  2019                  Horror   \n",
       "45597  tt9906644                   Manoharam  2019            Comedy,Drama   \n",
       "45598  tt9913660                  No Apology  2019                   Drama   \n",
       "\n",
       "                   actor_1              actor_2            actor_3  \\\n",
       "0                 Meg Ryan         Hugh Jackman     Liev Schreiber   \n",
       "1             Kôji Tsuruta  Tomisaburô Wakayama     Bunta Sugawara   \n",
       "2              John Huston            Oja Kodar  Peter Bogdanovich   \n",
       "3             Danny Aiello       Alex Zuckerman     Joe Pantoliano   \n",
       "4         Jennifer O'Neill       Robert Forster     William Windom   \n",
       "...                    ...                  ...                ...   \n",
       "45594         Willem Dafoe                                           \n",
       "45595          Ed Westwick          John Hannah         Tom Wisdom   \n",
       "45596            Rim Basma      Laurie Cummings          Winnie Du   \n",
       "45597  Vineeth Sreenivasan           Aparna Das       Basil Joseph   \n",
       "45598          Lydia Adair          Owen Bishop      Pierce Briggs   \n",
       "\n",
       "               director  rating  \\\n",
       "0         James Mangold     6.4   \n",
       "1        Kinji Fukasaku     7.0   \n",
       "2          Orson Welles     6.8   \n",
       "3            Dan Curtis     5.4   \n",
       "4      William A. Levey     5.1   \n",
       "...                 ...     ...   \n",
       "45594   Jennifer Peedom     9.1   \n",
       "45595      Anders Banke     4.9   \n",
       "45596      Terry Spears     3.0   \n",
       "45597       Anvar Sadik     6.8   \n",
       "45598     Gilbert Allan     5.0   \n",
       "\n",
       "                                                combined  \n",
       "0      comedy fantasy romance megryan hughjackman lie...  \n",
       "1      action crime kôjitsuruta tomisaburôwakayama bu...  \n",
       "2      drama johnhuston ojakodar peterbogdanovich ors...  \n",
       "3      comedy crime drama dannyaiello alexzuckerman j...  \n",
       "4      drama thriller jennifero'neill robertforster w...  \n",
       "...                                                  ...  \n",
       "45594           documentary willemdafoe   jenniferpeedom  \n",
       "45595    war edwestwick johnhannah tomwisdom andersbanke  \n",
       "45596  horror rimbasma lauriecummings winniedu terrys...  \n",
       "45597  comedy drama vineethsreenivasan aparnadas basi...  \n",
       "45598  drama lydiaadair owenbishop piercebriggs gilbe...  \n",
       "\n",
       "[45599 rows x 10 columns]"
      ]
     },
     "execution_count": 4,
     "metadata": {},
     "output_type": "execute_result"
    }
   ],
   "source": [
    "movies"
   ]
  },
  {
   "cell_type": "markdown",
   "metadata": {},
   "source": [
    "### Final data is ready\n",
    "## Applying algorithms"
   ]
  },
  {
   "cell_type": "code",
   "execution_count": 5,
   "metadata": {},
   "outputs": [],
   "source": [
    "# instantiating and generate the count matrix for 'combined' column\n",
    "# the applying cosine similarity\n",
    "\n",
    "cv = CountVectorizer(dtype=np.float32)\n",
    "movie_matrix = cv.fit_transform(movies['combined'])\n",
    "cos_similarity = cosine_similarity(movie_matrix)"
   ]
  },
  {
   "cell_type": "code",
   "execution_count": 6,
   "metadata": {},
   "outputs": [],
   "source": [
    "# Saving cosine similarity matrix in file\n",
    "\n",
    "np.save('cosine_matrix.npy', cos_similarity)"
   ]
  },
  {
   "cell_type": "code",
   "execution_count": 7,
   "metadata": {},
   "outputs": [],
   "source": [
    "# Loading cosine similarity matrix from file\n",
    "\n",
    "cos_sim = np.load('cosine_matrix.npy')"
   ]
  },
  {
   "cell_type": "markdown",
   "metadata": {},
   "source": [
    "Following function takes index of user given movie..\n",
    "and enumerate index and cosine similarity score in list..\n",
    "and sorts that list wrt cosine similarity score in decsending order..\n",
    "and takes top 50 similar movies to the user given movie..\n",
    "and returns list of tuples with index and cosine similarity score.."
   ]
  },
  {
   "cell_type": "code",
   "execution_count": 8,
   "metadata": {},
   "outputs": [],
   "source": [
    "def get_cosine_scores(ind):\n",
    "    similarity_scores = list(enumerate(cos_sim[ind]))\n",
    "    similarity_scores = sorted(similarity_scores, key=lambda x:x[1], reverse=True)   # sort based on cosine score\n",
    "    similarity_scores = similarity_scores[1:51]                                      # Take top 50 cosine scores\n",
    "    return similarity_scores                                                         # It returns list of index and its cosine score"
   ]
  },
  {
   "cell_type": "markdown",
   "metadata": {},
   "source": [
    "Following function takes list of tuples returned by last function as parameter..\n",
    "iterate through index and cosine score and get the rating for every index..\n",
    "and takes weightage total of 3, out of which 2 is given to score and 1 to rating and divide it with 3 to get average..\n",
    "then append this weightage score and index in a list..\n",
    "then sort that list with average..\n",
    "and take top 10 records..\n",
    "then takes only indexes through map function.. \n",
    "and returns those indexes."
   ]
  },
  {
   "cell_type": "code",
   "execution_count": 9,
   "metadata": {},
   "outputs": [],
   "source": [
    "def weight_average_cosineScore_rating(cos_scores):\n",
    "    averages=[]\n",
    "    for i,score in cos_scores:\n",
    "        rating = movies.loc[i,'rating']\n",
    "        average = (2*score + (rating/10)) / 3\n",
    "        averages.append((i,average))\n",
    "    averages = sorted(averages, key=lambda x:x[1], reverse=True)\n",
    "    averages = averages[0:10]\n",
    "    indexes=list(map(lambda item: item[0], averages))\n",
    "    return indexes\n",
    "    "
   ]
  },
  {
   "cell_type": "markdown",
   "metadata": {},
   "source": [
    "Following function takes list of indexes returned by last function as parameter..\n",
    "Iterate through indexes and takes movie title and its release year in a string..\n",
    "and append these titles and in a list..\n",
    "and return that list with movie titles and year"
   ]
  },
  {
   "cell_type": "code",
   "execution_count": 10,
   "metadata": {},
   "outputs": [],
   "source": [
    "def get_movie_names(ind):\n",
    "    titles=[]\n",
    "    for i in ind:\n",
    "        title = movies.loc[i,'title']+ ' ('+ str(movies.loc[i,'year'])+')'\n",
    "        titles.append(title)\n",
    "    return titles\n",
    "    "
   ]
  },
  {
   "cell_type": "markdown",
   "metadata": {},
   "source": [
    "Following function is the MAIN function. as it takes user given title as parameter and gets its index..\n",
    "then check for cosine scores..\n",
    "then check for cosine score and rating averages..\n",
    "then gets movie titles and years in a list..\n",
    "and return that list to user"
   ]
  },
  {
   "cell_type": "code",
   "execution_count": 11,
   "metadata": {},
   "outputs": [],
   "source": [
    "indexes = pd.Series(movies.index, index=movies['title'])\n",
    "def recommendations(title):\n",
    "    if title in movies['title'].unique():\n",
    "        index = indexes[title]\n",
    "        records = get_cosine_scores(index)\n",
    "        records = weight_average_cosineScore_rating(records)\n",
    "        records = get_movie_names(records)\n",
    "        return records\n",
    "    else:\n",
    "        return ('This movie is not in our database. Please confirm if you spelled it correctly.')\n",
    "    "
   ]
  },
  {
   "cell_type": "code",
   "execution_count": 12,
   "metadata": {},
   "outputs": [
    {
     "data": {
      "text/plain": [
       "['Iron Man 2 (2010)',\n",
       " 'Iron Man 3 (2013)',\n",
       " 'Spider-Man: Homecoming (2017)',\n",
       " 'Avengers: Age of Ultron (2015)',\n",
       " 'Jurassic Park (1993)',\n",
       " 'Serenity (2005)',\n",
       " 'The Fifth Element (1997)',\n",
       " 'X-Men (2000)',\n",
       " 'X2: X-Men United (2003)',\n",
       " 'Spider-Man (2002)']"
      ]
     },
     "execution_count": 12,
     "metadata": {},
     "output_type": "execute_result"
    }
   ],
   "source": [
    "recommendations(\"Iron Man\")"
   ]
  },
  {
   "cell_type": "code",
   "execution_count": null,
   "metadata": {},
   "outputs": [],
   "source": []
  }
 ],
 "metadata": {
  "kernelspec": {
   "display_name": "Python 3",
   "language": "python",
   "name": "python3"
  },
  "language_info": {
   "codemirror_mode": {
    "name": "ipython",
    "version": 3
   },
   "file_extension": ".py",
   "mimetype": "text/x-python",
   "name": "python",
   "nbconvert_exporter": "python",
   "pygments_lexer": "ipython3",
   "version": "3.8.3"
  }
 },
 "nbformat": 4,
 "nbformat_minor": 4
}
