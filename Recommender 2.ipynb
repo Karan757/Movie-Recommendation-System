{
 "cells": [
  {
   "cell_type": "markdown",
   "metadata": {},
   "source": [
    "## Import Libraries"
   ]
  },
  {
   "cell_type": "code",
   "execution_count": 1,
   "metadata": {},
   "outputs": [],
   "source": [
    "import pandas as pd\n",
    "import numpy as np\n",
    "from sklearn.feature_extraction.text import CountVectorizer\n",
    "from sklearn.metrics.pairwise import cosine_similarity\n",
    "import requests"
   ]
  },
  {
   "cell_type": "markdown",
   "metadata": {},
   "source": [
    "## Load Dataset"
   ]
  },
  {
   "cell_type": "code",
   "execution_count": 2,
   "metadata": {},
   "outputs": [],
   "source": [
    "movies = pd.read_pickle('Final_MovieData.pkl')"
   ]
  },
  {
   "cell_type": "code",
   "execution_count": 6,
   "metadata": {
    "scrolled": false
   },
   "outputs": [
    {
     "data": {
      "text/plain": [
       "\"drama thriller robertforster jennifero'neill ronpalillo williamwindom williama.levey\""
      ]
     },
     "execution_count": 6,
     "metadata": {},
     "output_type": "execute_result"
    }
   ],
   "source": [
    "movies.loc[4]['combined']"
   ]
  },
  {
   "cell_type": "markdown",
   "metadata": {},
   "source": [
    "### Final data is ready\n",
    "## Applying algorithms"
   ]
  },
  {
   "cell_type": "code",
   "execution_count": 6,
   "metadata": {},
   "outputs": [],
   "source": [
    "# instantiating and generate the count matrix for 'combined' column\n",
    "# the applying cosine similarity\n",
    "\n",
    "# cv = CountVectorizer(dtype=np.float32)\n",
    "# movie_matrix = cv.fit_transform(movies['combined'])\n",
    "# cos_similarity = cosine_similarity(movie_matrix)"
   ]
  },
  {
   "cell_type": "code",
   "execution_count": 7,
   "metadata": {},
   "outputs": [],
   "source": [
    "# Saving cosine similarity matrix in file\n",
    "\n",
    "# np.save('cosine_matrix.npy', cos_similarity)"
   ]
  },
  {
   "cell_type": "code",
   "execution_count": 7,
   "metadata": {},
   "outputs": [],
   "source": [
    "# Loading cosine similarity matrix from file\n",
    "\n",
    "cos_sim = np.load('cosine_matrix.npy')"
   ]
  },
  {
   "cell_type": "markdown",
   "metadata": {},
   "source": [
    "Following function takes index of user given movie..\n",
    "and enumerate index and cosine similarity score in list..\n",
    "and sorts that list wrt cosine similarity score in decsending order..\n",
    "and takes top 50 similar movies to the user given movie..\n",
    "and returns list of tuples with index and cosine similarity score.."
   ]
  },
  {
   "cell_type": "code",
   "execution_count": 31,
   "metadata": {},
   "outputs": [],
   "source": [
    "def get_cosine_scores(ind):\n",
    "    similarity_scores = list(enumerate(cos_sim[ind]))\n",
    "    similarity_scores = sorted(similarity_scores, key=lambda x:x[1], reverse=True)   # sort based on cosine score\n",
    "    similarity_scores = similarity_scores[1:51]                                      # Take top 50 cosine scores\n",
    "    return similarity_scores                                                         # It returns list of index and its cosine score"
   ]
  },
  {
   "cell_type": "code",
   "execution_count": 11,
   "metadata": {
    "scrolled": true
   },
   "outputs": [],
   "source": [
    "def names(cos_scores):\n",
    "    name=[]\n",
    "    for i,score in cos_scores:\n",
    "        title = movies.loc[i, 'title']\n",
    "        name.append((title,score))\n",
    "    return name"
   ]
  },
  {
   "cell_type": "code",
   "execution_count": 16,
   "metadata": {
    "scrolled": true
   },
   "outputs": [
    {
     "data": {
      "text/html": [
       "<div>\n",
       "<style scoped>\n",
       "    .dataframe tbody tr th:only-of-type {\n",
       "        vertical-align: middle;\n",
       "    }\n",
       "\n",
       "    .dataframe tbody tr th {\n",
       "        vertical-align: top;\n",
       "    }\n",
       "\n",
       "    .dataframe thead th {\n",
       "        text-align: right;\n",
       "    }\n",
       "</style>\n",
       "<table border=\"1\" class=\"dataframe\">\n",
       "  <thead>\n",
       "    <tr style=\"text-align: right;\">\n",
       "      <th></th>\n",
       "      <th>tconst</th>\n",
       "      <th>title</th>\n",
       "      <th>year</th>\n",
       "      <th>genres</th>\n",
       "      <th>actors</th>\n",
       "      <th>director</th>\n",
       "      <th>rating</th>\n",
       "      <th>combined</th>\n",
       "    </tr>\n",
       "  </thead>\n",
       "  <tbody>\n",
       "    <tr>\n",
       "      <th>11739</th>\n",
       "      <td>tt0381061</td>\n",
       "      <td>Casino Royale</td>\n",
       "      <td>2006</td>\n",
       "      <td>Action, Adventure, Thriller</td>\n",
       "      <td>Judi Dench, Daniel Craig, Jeffrey Wright, Eva ...</td>\n",
       "      <td>Martin Campbell</td>\n",
       "      <td>8.0</td>\n",
       "      <td>action adventure thriller judidench danielcrai...</td>\n",
       "    </tr>\n",
       "  </tbody>\n",
       "</table>\n",
       "</div>"
      ],
      "text/plain": [
       "          tconst          title  year                       genres  \\\n",
       "11739  tt0381061  Casino Royale  2006  Action, Adventure, Thriller   \n",
       "\n",
       "                                                  actors         director  \\\n",
       "11739  Judi Dench, Daniel Craig, Jeffrey Wright, Eva ...  Martin Campbell   \n",
       "\n",
       "       rating                                           combined  \n",
       "11739     8.0  action adventure thriller judidench danielcrai...  "
      ]
     },
     "execution_count": 16,
     "metadata": {},
     "output_type": "execute_result"
    }
   ],
   "source": [
    "movies[movies['title'] == 'Casino Royale']"
   ]
  },
  {
   "cell_type": "code",
   "execution_count": 22,
   "metadata": {},
   "outputs": [],
   "source": [
    "def re(indd):\n",
    "    scoress = get_cosine_scores(indd)\n",
    "    namess = names(scoress)\n",
    "    return namess"
   ]
  },
  {
   "cell_type": "code",
   "execution_count": 23,
   "metadata": {
    "scrolled": true
   },
   "outputs": [
    {
     "data": {
      "text/plain": [
       "[('Quantum of Solace', 0.62499994),\n",
       " ('Skyfall', 0.62499994),\n",
       " ('GoldenEye', 0.49999997),\n",
       " ('Spectre', 0.49999997),\n",
       " ('CIA Code Name: Alexa', 0.37499997),\n",
       " ('Hard Hunted', 0.37499997),\n",
       " ('Cliffhanger', 0.37499997),\n",
       " ('Angel of Destruction', 0.37499997),\n",
       " ('Drop Zone', 0.37499997),\n",
       " ('Speed', 0.37499997),\n",
       " ('Breakaway', 0.37499997),\n",
       " ('Broken Arrow', 0.37499997),\n",
       " ('Executive Decision', 0.37499997),\n",
       " ('Mission: Impossible', 0.37499997),\n",
       " ('The Rock', 0.37499997),\n",
       " ('Street Gun', 0.37499997),\n",
       " ('Twister', 0.37499997),\n",
       " (\"Dante's Peak\", 0.37499997),\n",
       " ('Tomorrow Never Dies', 0.37499997),\n",
       " ('Mission: Impossible II', 0.37499997),\n",
       " ('The World Is Not Enough', 0.37499997),\n",
       " ('The Vivero Letter', 0.37499997),\n",
       " ('Die Another Day', 0.37499997),\n",
       " ('Low Heights', 0.37499997),\n",
       " ('Mission: Impossible III', 0.37499997),\n",
       " ('Kingdom of Heaven', 0.37499997),\n",
       " ('The Eliminator', 0.37499997),\n",
       " ('Zameen', 0.37499997),\n",
       " ('Lost', 0.37499997),\n",
       " ('Poseidon', 0.37499997),\n",
       " ('What Lies Above', 0.37499997),\n",
       " ('The A-Team', 0.37499997),\n",
       " ('The Adventures of Tintin', 0.37499997),\n",
       " ('Death Proof', 0.37499997),\n",
       " ('Infidel', 0.37499997),\n",
       " ('The Bourne Legacy', 0.37499997),\n",
       " ('Mission: Impossible - Ghost Protocol', 0.37499997),\n",
       " ('xXx: Return of Xander Cage', 0.37499997),\n",
       " ('Ballistica', 0.37499997),\n",
       " ('The Burma Conspiracy', 0.37499997),\n",
       " ('The Cold Light of Day', 0.37499997),\n",
       " ('Game of Death', 0.37499997),\n",
       " ('Caught Inside', 0.37499997),\n",
       " ('KingBreaker', 0.37499997),\n",
       " ('Fast & Furious 6', 0.37499997),\n",
       " ('San Andreas', 0.37499997),\n",
       " ('12 Rounds 2: Reloaded', 0.37499997),\n",
       " ('A Viking Saga: The Darkest Day', 0.37499997),\n",
       " ('The Expendables 3', 0.37499997),\n",
       " ('Mission: Impossible - Rogue Nation', 0.37499997)]"
      ]
     },
     "execution_count": 23,
     "metadata": {},
     "output_type": "execute_result"
    }
   ],
   "source": [
    "re(11739)"
   ]
  },
  {
   "cell_type": "code",
   "execution_count": null,
   "metadata": {},
   "outputs": [],
   "source": []
  },
  {
   "cell_type": "code",
   "execution_count": null,
   "metadata": {},
   "outputs": [],
   "source": []
  },
  {
   "cell_type": "code",
   "execution_count": null,
   "metadata": {},
   "outputs": [],
   "source": []
  },
  {
   "cell_type": "code",
   "execution_count": null,
   "metadata": {},
   "outputs": [],
   "source": []
  },
  {
   "cell_type": "code",
   "execution_count": null,
   "metadata": {},
   "outputs": [],
   "source": []
  },
  {
   "cell_type": "markdown",
   "metadata": {},
   "source": [
    "Following function takes list of tuples returned by last function as parameter..\n",
    "iterate through index and cosine score and get the rating for every index..\n",
    "and takes weightage total of 3, out of which 2 is given to score and 1 to rating and divide it with 3 to get average..\n",
    "then append this weightage score and index in a list..\n",
    "then sort that list with average..\n",
    "and take top 10 records..\n",
    "then takes only indexes through map function.. \n",
    "and returns those indexes."
   ]
  },
  {
   "cell_type": "code",
   "execution_count": 38,
   "metadata": {},
   "outputs": [],
   "source": [
    "def weight_average_cosineScore_rating(cos_scores):\n",
    "    averages=[]\n",
    "    for i,score in cos_scores:\n",
    "        rating = movies.loc[i,'rating']\n",
    "        average = (2*score + (rating/10)) / 3\n",
    "        title = movies.loc[i, 'title']\n",
    "        averages.append((title,score,rating,average))\n",
    "    averages = sorted(averages, key=lambda x:x[3], reverse=True)\n",
    "    averages = averages[0:15]\n",
    "#     indexes=list(map(lambda item: item[0], averages))\n",
    "    return averages\n",
    "    "
   ]
  },
  {
   "cell_type": "code",
   "execution_count": 39,
   "metadata": {},
   "outputs": [],
   "source": [
    "def ree(indd):\n",
    "    scoress = get_cosine_scores(indd)\n",
    "    namess = weight_average_cosineScore_rating(scoress)\n",
    "    return namess"
   ]
  },
  {
   "cell_type": "code",
   "execution_count": 40,
   "metadata": {},
   "outputs": [
    {
     "data": {
      "text/plain": [
       "[('Skyfall', 0.62499994, 7.7, 0.6733332935969035),\n",
       " ('Quantum of Solace', 0.62499994, 6.6, 0.6366666269302368),\n",
       " ('GoldenEye', 0.49999997, 7.2, 0.5733333134651184),\n",
       " ('Spectre', 0.49999997, 6.8, 0.5599999801317851),\n",
       " ('The Rock', 0.37499997, 7.4, 0.49666664679845174),\n",
       " ('Low Heights', 0.37499997, 7.4, 0.49666664679845174),\n",
       " ('Mission: Impossible - Ghost Protocol',\n",
       "  0.37499997,\n",
       "  7.4,\n",
       "  0.49666664679845174),\n",
       " ('Mission: Impossible - Rogue Nation', 0.37499997, 7.4, 0.49666664679845174),\n",
       " ('The Adventures of Tintin', 0.37499997, 7.3, 0.4933333134651184),\n",
       " ('Speed', 0.37499997, 7.2, 0.4899999801317851),\n",
       " ('Kingdom of Heaven', 0.37499997, 7.2, 0.4899999801317851),\n",
       " ('Mission: Impossible', 0.37499997, 7.1, 0.48666664679845173),\n",
       " ('Fast & Furious 6', 0.37499997, 7.1, 0.48666664679845173),\n",
       " ('Death Proof', 0.37499997, 7.0, 0.4833333134651184),\n",
       " ('Mission: Impossible III', 0.37499997, 6.9, 0.4799999801317851)]"
      ]
     },
     "execution_count": 40,
     "metadata": {},
     "output_type": "execute_result"
    }
   ],
   "source": [
    "ree(11739)"
   ]
  },
  {
   "cell_type": "code",
   "execution_count": null,
   "metadata": {},
   "outputs": [],
   "source": []
  },
  {
   "cell_type": "code",
   "execution_count": null,
   "metadata": {},
   "outputs": [],
   "source": []
  },
  {
   "cell_type": "markdown",
   "metadata": {},
   "source": [
    "Following function takes list of indexes returned by last function as parameter..\n",
    "Iterate through indexes and takes movie title and its release year in a string..\n",
    "and append these titles and in a list..\n",
    "and return that list with movie titles and year"
   ]
  },
  {
   "cell_type": "code",
   "execution_count": 11,
   "metadata": {},
   "outputs": [],
   "source": [
    "def get_movie_names(ind):\n",
    "    titles = []\n",
    "    j = 1\n",
    "    for i in ind:\n",
    "        title = movies.loc[i, 'title']\n",
    "        year = int(movies.loc[i, 'year'])\n",
    "        imdb_id = movies.loc[i,'tconst']\n",
    "        poster = get_imdb_data(imdb_id)['poster']\n",
    "        titles.append({'id': j, 'title': title, 'year': year, 'poster': poster})\n",
    "        j = j+1\n",
    "    return titles"
   ]
  },
  {
   "cell_type": "code",
   "execution_count": 12,
   "metadata": {},
   "outputs": [],
   "source": [
    "def get_imdb_data(imdb_id):\n",
    "    Basic_url = \"http://www.omdbapi.com/\"\n",
    "    api_key = \"fc796b50\"\n",
    "    response_data = requests.get(f\"{Basic_url}?apikey={api_key}&i={imdb_id}\").json()\n",
    "    runtime= response_data['Runtime']\n",
    "    plot = response_data['Plot']\n",
    "    poster = response_data['Poster']\n",
    "    movie_data = {\n",
    "        'run_time': runtime,\n",
    "        'overview': plot,\n",
    "        'poster': poster\n",
    "    }\n",
    "    return movie_data"
   ]
  },
  {
   "cell_type": "code",
   "execution_count": 13,
   "metadata": {},
   "outputs": [],
   "source": [
    "def get_first_movie_data(ind):\n",
    "    title = movies.loc[ind, 'title']\n",
    "    year = int(movies.loc[ind, 'year'])\n",
    "    imdb_id = movies.loc[ind,'tconst']\n",
    "    rating = movies.loc[ind,'rating']\n",
    "    imdb_data = get_imdb_data(imdb_id)\n",
    "    runtime = imdb_data['run_time']\n",
    "    overview = imdb_data['overview']\n",
    "    poster = imdb_data['poster']\n",
    "    data = {\n",
    "        'id': 1,\n",
    "        'title': title,\n",
    "        'year': year,\n",
    "        'rating': rating,\n",
    "        'runtime': runtime,\n",
    "        'overview': overview,\n",
    "        'poster': poster\n",
    "    }\n",
    "    return data"
   ]
  },
  {
   "cell_type": "code",
   "execution_count": 14,
   "metadata": {},
   "outputs": [],
   "source": [
    "# import requests\n",
    "# # http://www.omdbapi.com/?apikey=fc796b50&i=tt0371746\n",
    "# Basic_url = \"http://www.omdbapi.com/\"\n",
    "# api_key = \"fc796b50\"\n",
    "# imdb_id= \"tt0371746\"\n",
    "# json_r = requests.get(f\"{Basic_url}?apikey={api_key}&i={imdb_id}\").json()\n",
    "# # json_r = response.json()\n",
    "# title = json_r['Title']\n",
    "# year = json_r['Year']\n",
    "# runtime= json_r['Runtime']\n",
    "# plot = json_r['Plot']\n",
    "# poster = json_r['Poster']\n",
    "\n",
    "# print(title)\n",
    "# print(year)\n",
    "# print(runtime)\n",
    "# print(plot)\n",
    "# print(poster)\n"
   ]
  },
  {
   "cell_type": "markdown",
   "metadata": {},
   "source": [
    "Following function is the MAIN function. as it takes user given title as parameter and gets its index..\n",
    "then check for cosine scores..\n",
    "then check for cosine score and rating averages..\n",
    "then gets movie titles and years in a list..\n",
    "and return that list to user"
   ]
  },
  {
   "cell_type": "code",
   "execution_count": 15,
   "metadata": {},
   "outputs": [],
   "source": [
    "indexes = pd.Series(movies.index, index=movies['title'])\n",
    "def recommendations(title):\n",
    "    return_data = []\n",
    "    if title in movies['title'].unique():\n",
    "        index = indexes[title]\n",
    "        searched_movie = get_first_movie_data(index)\n",
    "        records = get_cosine_scores(index)\n",
    "        records = weight_average_cosineScore_rating(records)\n",
    "        records = get_movie_names(records)\n",
    "        fm={\n",
    "            'first_movie_data': searched_movie\n",
    "        }\n",
    "        m={\n",
    "            'movies': records\n",
    "        }\n",
    "        return_data.append(fm)\n",
    "        return_data.append(m)\n",
    "        \n",
    "        return return_data\n",
    "    else:\n",
    "        return [{'id': 0, 'title': 'This movie is not in our database.', 'year': 'Please confirm if you spelled it correctly!'}]"
   ]
  },
  {
   "cell_type": "code",
   "execution_count": 16,
   "metadata": {},
   "outputs": [
    {
     "data": {
      "text/plain": [
       "[{'first_movie_data': {'id': 1,\n",
       "   'title': 'Casino Royale',\n",
       "   'year': 2006,\n",
       "   'rating': 8.0,\n",
       "   'runtime': '144 min',\n",
       "   'overview': 'After earning 00 status and a licence to kill, Secret Agent James Bond sets out on his first mission as 007. Bond must defeat a private banker funding terrorists in a high-stakes game of poker at Casino Royale, Montenegro.',\n",
       "   'poster': 'https://m.media-amazon.com/images/M/MV5BMDI5ZWJhOWItYTlhOC00YWNhLTlkNzctNDU5YTI1M2E1MWZhXkEyXkFqcGdeQXVyNTIzOTk5ODM@._V1_SX300.jpg'}},\n",
       " {'movies': [{'id': 1,\n",
       "    'title': 'Skyfall',\n",
       "    'year': 2012,\n",
       "    'poster': 'https://m.media-amazon.com/images/M/MV5BMWZiNjE2OWItMTkwNy00ZWQzLWI0NTgtMWE0NjNiYTljN2Q1XkEyXkFqcGdeQXVyNzAwMjYxMzA@._V1_SX300.jpg'},\n",
       "   {'id': 2,\n",
       "    'title': 'Quantum of Solace',\n",
       "    'year': 2008,\n",
       "    'poster': 'https://m.media-amazon.com/images/M/MV5BMjZiYTUzMzktZWI5Yy00Mzk4LWFlMDgtYjRmNWU0Mzc0MzNiXkEyXkFqcGdeQXVyMjUzOTY1NTc@._V1_SX300.jpg'},\n",
       "   {'id': 3,\n",
       "    'title': 'GoldenEye',\n",
       "    'year': 1995,\n",
       "    'poster': 'https://m.media-amazon.com/images/M/MV5BMzk2OTg4MTk1NF5BMl5BanBnXkFtZTcwNjExNTgzNA@@._V1_SX300.jpg'},\n",
       "   {'id': 4,\n",
       "    'title': 'Spectre',\n",
       "    'year': 2015,\n",
       "    'poster': 'https://m.media-amazon.com/images/M/MV5BOWQ1MDE1NzgtNTQ4OC00ZjliLTllZDAtN2IyOTVmMTc5YjUxXkEyXkFqcGdeQXVyNzkwMjQ5NzM@._V1_SX300.jpg'},\n",
       "   {'id': 5,\n",
       "    'title': 'The Rock',\n",
       "    'year': 1996,\n",
       "    'poster': 'https://m.media-amazon.com/images/M/MV5BZDJjOTE0N2EtMmRlZS00NzU0LWE0ZWQtM2Q3MWMxNjcwZjBhXkEyXkFqcGdeQXVyNDk3NzU2MTQ@._V1_SX300.jpg'},\n",
       "   {'id': 6,\n",
       "    'title': 'Low Heights',\n",
       "    'year': 2002,\n",
       "    'poster': 'https://m.media-amazon.com/images/M/MV5BMTI1Njc1ODY2Nl5BMl5BanBnXkFtZTcwMTE4MzAzMQ@@._V1_SX300.jpg'},\n",
       "   {'id': 7,\n",
       "    'title': 'Mission: Impossible - Ghost Protocol',\n",
       "    'year': 2011,\n",
       "    'poster': 'https://m.media-amazon.com/images/M/MV5BMTY4MTUxMjQ5OV5BMl5BanBnXkFtZTcwNTUyMzg5Ng@@._V1_SX300.jpg'},\n",
       "   {'id': 8,\n",
       "    'title': 'Mission: Impossible - Rogue Nation',\n",
       "    'year': 2015,\n",
       "    'poster': 'https://m.media-amazon.com/images/M/MV5BOTFmNDA3ZjMtN2Y0MC00NDYyLWFlY2UtNTQ4OTQxMmY1NmVjXkEyXkFqcGdeQXVyNTg4NDQ4NDY@._V1_SX300.jpg'},\n",
       "   {'id': 9,\n",
       "    'title': 'The Adventures of Tintin',\n",
       "    'year': 2011,\n",
       "    'poster': 'https://m.media-amazon.com/images/M/MV5BNDE5MDExNTQ1OF5BMl5BanBnXkFtZTcwMDIxMTM5Ng@@._V1_SX300.jpg'},\n",
       "   {'id': 10,\n",
       "    'title': 'Speed',\n",
       "    'year': 1994,\n",
       "    'poster': 'https://m.media-amazon.com/images/M/MV5BYjc0MjYyN2EtZGRhMy00NzJiLWI2Y2QtYzhiYTU3NzAxNzg4XkEyXkFqcGdeQXVyMTQxNzMzNDI@._V1_SX300.jpg'}]}]"
      ]
     },
     "execution_count": 16,
     "metadata": {},
     "output_type": "execute_result"
    }
   ],
   "source": [
    "recommendations(\"Casino Royale\")"
   ]
  },
  {
   "cell_type": "code",
   "execution_count": null,
   "metadata": {},
   "outputs": [],
   "source": []
  }
 ],
 "metadata": {
  "kernelspec": {
   "display_name": "Python 3",
   "language": "python",
   "name": "python3"
  },
  "language_info": {
   "codemirror_mode": {
    "name": "ipython",
    "version": 3
   },
   "file_extension": ".py",
   "mimetype": "text/x-python",
   "name": "python",
   "nbconvert_exporter": "python",
   "pygments_lexer": "ipython3",
   "version": "3.8.3"
  }
 },
 "nbformat": 4,
 "nbformat_minor": 4
}
